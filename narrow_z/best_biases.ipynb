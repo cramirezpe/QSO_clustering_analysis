{
 "cells": [
  {
   "cell_type": "code",
   "execution_count": 40,
   "id": "dec4d667-f95b-45f0-ab88-19b84ce01c80",
   "metadata": {},
   "outputs": [],
   "source": [
    "from types import SimpleNamespace\n",
    "from pathlib import Path\n",
    "import os \n",
    "import numpy as np\n",
    "\n",
    "from tabulate import tabulate"
   ]
  },
  {
   "cell_type": "code",
   "execution_count": 41,
   "id": "b81a8eaf-fdf0-48d7-870b-9d085fb9ea96",
   "metadata": {},
   "outputs": [],
   "source": [
    "from sklearn.linear_model import LinearRegression"
   ]
  },
  {
   "cell_type": "code",
   "execution_count": 42,
   "id": "5aefa103-e0d9-409d-bf93-0f8e8367db4d",
   "metadata": {},
   "outputs": [],
   "source": [
    "_ = Path('.').resolve()\n",
    "os.chdir('../scripts')\n",
    "from get_best_biases import main as get_biases\n",
    "os.chdir(_)"
   ]
  },
  {
   "cell_type": "code",
   "execution_count": 43,
   "id": "a4626478-1da7-4d5c-b829-a2fa0d71b6cf",
   "metadata": {},
   "outputs": [],
   "source": [
    "import warnings\n",
    "warnings.filterwarnings('ignore')"
   ]
  },
  {
   "cell_type": "code",
   "execution_count": 44,
   "id": "7ea0efeb-1a42-4dcb-9966-c494d7dcb3f3",
   "metadata": {},
   "outputs": [],
   "source": [
    "import logging\n",
    "import sys\n",
    "logging.basicConfig(stream=sys.stdout, \n",
    "                    level=logging.WARNING,\n",
    "                    format='%(levelname)s:%(name)s:%(funcName)s:%(message)s')"
   ]
  },
  {
   "cell_type": "code",
   "execution_count": 45,
   "id": "9067427e-b182-43bd-9e3c-4eb5cd085b7d",
   "metadata": {},
   "outputs": [],
   "source": [
    "import matplotlib.pyplot as plt\n",
    "import copy"
   ]
  },
  {
   "cell_type": "code",
   "execution_count": 53,
   "id": "becedee5-b5e6-4494-bdd7-ef7a1735bde7",
   "metadata": {},
   "outputs": [],
   "source": [
    "args = SimpleNamespace(\n",
    "    corrf_multisim_path = Path('/global/cscratch1/sd/cramirez/QSO_clustering_analysis/corrf_compare_abacus'),\n",
    "    corrf_box_name = 'logn_bias3_multibias',\n",
    "    theory_path = Path('/global/cscratch1/sd/cramirez/QSO_clustering_analysis/CoLoRe_boxes/compare_abacus/logn_bias3_multibias_try5'),\n",
    "    theory_lognormal = False,\n",
    "    theory_source = 1,\n",
    "    rsd = True,\n",
    "    rmin = 0.1, \n",
    "    rmax = 200,\n",
    "    N_bins = 41,\n",
    "    zmin = 1.2,\n",
    "    zmax = 1.6,\n",
    "    nside = 2, \n",
    "    fitter_poles = [0],\n",
    "    fitter_rmin = {0:30, 2:30},\n",
    "    fitter_rmax = {0:80, 2:80},\n",
    "    fitter_bias0 = 1,\n",
    "    log_level = 'WARNING',\n",
    "    print_values=False\n",
    ")"
   ]
  },
  {
   "cell_type": "markdown",
   "id": "d4a279bc-8755-41fb-af08-3c71613d2ab2",
   "metadata": {
    "tags": []
   },
   "source": [
    "# noRSD"
   ]
  },
  {
   "cell_type": "code",
   "execution_count": 47,
   "id": "f9c8681c-11d0-4e04-86e0-4886a04fb4c5",
   "metadata": {
    "tags": []
   },
   "outputs": [
    {
     "ename": "AssertionError",
     "evalue": "",
     "output_type": "error",
     "traceback": [
      "\u001b[0;31m---------------------------------------------------------------------------\u001b[0m",
      "\u001b[0;31mAssertionError\u001b[0m                            Traceback (most recent call last)",
      "\u001b[0;32m<ipython-input-47-3bd7a910addf>\u001b[0m in \u001b[0;36m<module>\u001b[0;34m\u001b[0m\n\u001b[1;32m      8\u001b[0m \u001b[0mlognormal\u001b[0m\u001b[0;34m.\u001b[0m\u001b[0margs\u001b[0m\u001b[0;34m.\u001b[0m\u001b[0mrsd\u001b[0m \u001b[0;34m=\u001b[0m \u001b[0;32mFalse\u001b[0m\u001b[0;34m\u001b[0m\u001b[0;34m\u001b[0m\u001b[0m\n\u001b[1;32m      9\u001b[0m \u001b[0mlognormal\u001b[0m\u001b[0;34m.\u001b[0m\u001b[0margs\u001b[0m\u001b[0;34m.\u001b[0m\u001b[0mcorrf_box_name\u001b[0m \u001b[0;34m=\u001b[0m \u001b[0;34m'logn_bias3_multibias_try3'\u001b[0m\u001b[0;34m\u001b[0m\u001b[0;34m\u001b[0m\u001b[0m\n\u001b[0;32m---> 10\u001b[0;31m \u001b[0mlognormal\u001b[0m\u001b[0;34m.\u001b[0m\u001b[0min_b\u001b[0m\u001b[0;34m,\u001b[0m \u001b[0mlognormal\u001b[0m\u001b[0;34m.\u001b[0m\u001b[0mout_b\u001b[0m \u001b[0;34m=\u001b[0m \u001b[0mget_biases\u001b[0m\u001b[0;34m(\u001b[0m\u001b[0mlognormal\u001b[0m\u001b[0;34m.\u001b[0m\u001b[0margs\u001b[0m\u001b[0;34m)\u001b[0m\u001b[0;34m\u001b[0m\u001b[0;34m\u001b[0m\u001b[0m\n\u001b[0m\u001b[1;32m     11\u001b[0m \u001b[0;34m\u001b[0m\u001b[0m\n\u001b[1;32m     12\u001b[0m \u001b[0mlpt\u001b[0m \u001b[0;34m=\u001b[0m \u001b[0mhelper\u001b[0m\u001b[0;34m(\u001b[0m\u001b[0;34m)\u001b[0m\u001b[0;34m\u001b[0m\u001b[0;34m\u001b[0m\u001b[0m\n",
      "\u001b[0;32m/global/u2/c/cramirez/Work/QSO_clustering_analysis/scripts/get_best_biases.py\u001b[0m in \u001b[0;36mmain\u001b[0;34m(args)\u001b[0m\n\u001b[1;32m     27\u001b[0m \u001b[0;34m\u001b[0m\u001b[0m\n\u001b[1;32m     28\u001b[0m     \u001b[0mlogger\u001b[0m\u001b[0;34m.\u001b[0m\u001b[0minfo\u001b[0m\u001b[0;34m(\u001b[0m\u001b[0;34m'Defining theoretical model'\u001b[0m\u001b[0;34m)\u001b[0m\u001b[0;34m\u001b[0m\u001b[0;34m\u001b[0m\u001b[0m\n\u001b[0;32m---> 29\u001b[0;31m     \u001b[0;32massert\u001b[0m \u001b[0margs\u001b[0m\u001b[0;34m.\u001b[0m\u001b[0mtheory_path\u001b[0m\u001b[0;34m.\u001b[0m\u001b[0mis_dir\u001b[0m\u001b[0;34m(\u001b[0m\u001b[0;34m)\u001b[0m\u001b[0;34m\u001b[0m\u001b[0;34m\u001b[0m\u001b[0m\n\u001b[0m\u001b[1;32m     30\u001b[0m     theory = ComputeModelsCoLoRe(\n\u001b[1;32m     31\u001b[0m         \u001b[0mbox_path\u001b[0m \u001b[0;34m=\u001b[0m \u001b[0margs\u001b[0m\u001b[0;34m.\u001b[0m\u001b[0mtheory_path\u001b[0m\u001b[0;34m,\u001b[0m\u001b[0;34m\u001b[0m\u001b[0;34m\u001b[0m\u001b[0m\n",
      "\u001b[0;31mAssertionError\u001b[0m: "
     ]
    }
   ],
   "source": [
    "class helper:\n",
    "    def __str__(self):\n",
    "        return self.label\n",
    "\n",
    "lognormal = helper()\n",
    "lognormal.label = 'lognormal'\n",
    "lognormal.args = copy.copy(args)\n",
    "lognormal.args.rsd = False\n",
    "lognormal.args.corrf_box_name = 'logn_bias3_multibias_try3'\n",
    "lognormal.in_b, lognormal.out_b = get_biases(lognormal.args)\n",
    "\n",
    "lpt = helper()\n",
    "lpt.label = '2LPT'\n",
    "lpt.args = copy.copy(args)\n",
    "lpt.args.rsd = False\n",
    "lpt.args.corrf_box_name = '2lpt_bias3_multibias_try3'\n",
    "lpt.in_b, lpt.out_b = get_biases(lpt.args)\n",
    "\n",
    "for analysis in lognormal, lpt:\n",
    "    analysis.in_b = np.asarray([float(b) for b in analysis.in_b])\n",
    "    analysis.out_b= np.asarray([float(b) for b in analysis.out_b])"
   ]
  },
  {
   "cell_type": "code",
   "execution_count": 18,
   "id": "3a01b541-fa8e-4629-bf61-84eb89d2d1d6",
   "metadata": {},
   "outputs": [],
   "source": [
    "lognormal.color='blue'\n",
    "lpt.color='red'"
   ]
  },
  {
   "cell_type": "code",
   "execution_count": 19,
   "id": "a54e2687-6b5e-4748-b777-509e27ef76e7",
   "metadata": {},
   "outputs": [],
   "source": [
    "%matplotlib widget"
   ]
  },
  {
   "cell_type": "code",
   "execution_count": 20,
   "id": "d87c1a33-7f1f-49a3-a90f-8571006af163",
   "metadata": {},
   "outputs": [
    {
     "ename": "AttributeError",
     "evalue": "'helper' object has no attribute 'in_b'",
     "output_type": "error",
     "traceback": [
      "\u001b[0;31m---------------------------------------------------------------------------\u001b[0m",
      "\u001b[0;31mAttributeError\u001b[0m                            Traceback (most recent call last)",
      "\u001b[0;32m<ipython-input-20-7981f429682a>\u001b[0m in \u001b[0;36m<module>\u001b[0;34m\u001b[0m\n\u001b[1;32m      1\u001b[0m \u001b[0;32mfor\u001b[0m \u001b[0manalysis\u001b[0m \u001b[0;32min\u001b[0m \u001b[0mlognormal\u001b[0m\u001b[0;34m,\u001b[0m \u001b[0mlpt\u001b[0m\u001b[0;34m:\u001b[0m\u001b[0;34m\u001b[0m\u001b[0;34m\u001b[0m\u001b[0m\n\u001b[1;32m      2\u001b[0m     \u001b[0manalysis\u001b[0m\u001b[0;34m.\u001b[0m\u001b[0mmodel\u001b[0m \u001b[0;34m=\u001b[0m \u001b[0mLinearRegression\u001b[0m\u001b[0;34m(\u001b[0m\u001b[0;34m)\u001b[0m\u001b[0;34m\u001b[0m\u001b[0;34m\u001b[0m\u001b[0m\n\u001b[0;32m----> 3\u001b[0;31m     \u001b[0manalysis\u001b[0m\u001b[0;34m.\u001b[0m\u001b[0mmodel\u001b[0m\u001b[0;34m.\u001b[0m\u001b[0mfit\u001b[0m\u001b[0;34m(\u001b[0m\u001b[0manalysis\u001b[0m\u001b[0;34m.\u001b[0m\u001b[0min_b\u001b[0m\u001b[0;34m[\u001b[0m\u001b[0;36m1\u001b[0m\u001b[0;34m:\u001b[0m\u001b[0;34m]\u001b[0m\u001b[0;34m.\u001b[0m\u001b[0mreshape\u001b[0m\u001b[0;34m(\u001b[0m\u001b[0;34m(\u001b[0m\u001b[0mlen\u001b[0m\u001b[0;34m(\u001b[0m\u001b[0manalysis\u001b[0m\u001b[0;34m.\u001b[0m\u001b[0min_b\u001b[0m\u001b[0;34m[\u001b[0m\u001b[0;36m1\u001b[0m\u001b[0;34m:\u001b[0m\u001b[0;34m]\u001b[0m\u001b[0;34m)\u001b[0m\u001b[0;34m,\u001b[0m \u001b[0;36m1\u001b[0m\u001b[0;34m)\u001b[0m\u001b[0;34m)\u001b[0m\u001b[0;34m,\u001b[0m \u001b[0manalysis\u001b[0m\u001b[0;34m.\u001b[0m\u001b[0mout_b\u001b[0m\u001b[0;34m[\u001b[0m\u001b[0;36m1\u001b[0m\u001b[0;34m:\u001b[0m\u001b[0;34m]\u001b[0m\u001b[0;34m)\u001b[0m\u001b[0;34m\u001b[0m\u001b[0;34m\u001b[0m\u001b[0m\n\u001b[0m",
      "\u001b[0;31mAttributeError\u001b[0m: 'helper' object has no attribute 'in_b'"
     ]
    }
   ],
   "source": [
    "for analysis in lognormal, lpt:\n",
    "    analysis.model = LinearRegression()\n",
    "    analysis.model.fit(analysis.in_b[1:].reshape((len(analysis.in_b[1:]), 1)), analysis.out_b[1:])"
   ]
  },
  {
   "cell_type": "code",
   "execution_count": null,
   "id": "459d5f0f-eee7-41bd-a202-d568238354a1",
   "metadata": {},
   "outputs": [],
   "source": [
    "fig, ax = plt.subplots()\n",
    "\n",
    "in_b = np.linspace(2.5, 4, 100)\n",
    "for analysis in lognormal,lpt:\n",
    "    ax.scatter(analysis.in_b[1:], analysis.out_b[1:], c=analysis.color, label=analysis)\n",
    "    ax.plot(in_b, analysis.model.predict(in_b.reshape((len(in_b)),1)), c=analysis.color, linestyle='dashed')\n",
    "\n",
    "ax.legend()\n",
    "ax.grid()\n",
    "ax.set_xlabel('input bias')\n",
    "ax.set_ylabel('best bias');"
   ]
  },
  {
   "cell_type": "code",
   "execution_count": null,
   "id": "e25ef17e-a0da-4508-be2d-e8b743b0d668",
   "metadata": {},
   "outputs": [],
   "source": [
    "for analysis in lognormal, lpt:\n",
    "    print(analysis)\n",
    "    table = np.asarray([analysis.in_b, analysis.out_b])\n",
    "    print(tabulate(table.transpose(), headers=['in B', 'best B'], floatfmt=\".2f\"))\n",
    "    print('\\n')"
   ]
  },
  {
   "cell_type": "code",
   "execution_count": null,
   "id": "ac4e6c79-ac9f-44a8-b224-261acd8b9c45",
   "metadata": {
    "tags": []
   },
   "outputs": [],
   "source": [
    "def get_b_from_B(B, analysis):\n",
    "    return (B-analysis.model.intercept_)/analysis.model.coef_"
   ]
  },
  {
   "cell_type": "code",
   "execution_count": null,
   "id": "7ca2f164-a38a-4acf-9535-e59ed9302270",
   "metadata": {},
   "outputs": [],
   "source": [
    "get_b_from_B(2.145, lognormal)"
   ]
  },
  {
   "cell_type": "code",
   "execution_count": null,
   "id": "73a7c639-e83f-4616-8cf0-97306f06eb24",
   "metadata": {},
   "outputs": [],
   "source": [
    "get_b_from_B(2.145, lpt)"
   ]
  },
  {
   "cell_type": "markdown",
   "id": "bfeaf87b-500d-4dc2-a0c9-b523aee50172",
   "metadata": {},
   "source": [
    "# RSD"
   ]
  },
  {
   "cell_type": "code",
   "execution_count": 63,
   "id": "c550d48d-96a1-4e1a-b120-7c03f2fbf49f",
   "metadata": {
    "tags": []
   },
   "outputs": [],
   "source": [
    "class helper:\n",
    "    def __str__(self):\n",
    "        return self.label\n",
    "\n",
    "lognormal = helper()\n",
    "lognormal.label = 'lognormal'\n",
    "lognormal.args = copy.copy(args)\n",
    "lognormal.args.rsd = True\n",
    "lognormal.args.corrf_box_name = 'logn_bias3_multibias'\n",
    "lognormal.in_b, lognormal.out_b = get_biases(lognormal.args)\n",
    "\n",
    "lpt = helper()\n",
    "lpt.label = '2LPT'\n",
    "lpt.args = copy.copy(args)\n",
    "lpt.args.rsd = True\n",
    "lpt.args.corrf_box_name = '2lpt_bias3_multibias'\n",
    "lpt.in_b, lpt.out_b = get_biases(lpt.args)\n",
    "\n",
    "for analysis in lognormal, lpt:\n",
    "    analysis.in_b = np.asarray([float(b) for b in analysis.in_b])\n",
    "    analysis.out_b= np.asarray([float(b) for b in analysis.out_b])"
   ]
  },
  {
   "cell_type": "code",
   "execution_count": 64,
   "id": "55cbadfd-2742-4915-b4cd-8f88db637af5",
   "metadata": {},
   "outputs": [],
   "source": [
    "lognormal.color='blue'\n",
    "lpt.color='red'"
   ]
  },
  {
   "cell_type": "code",
   "execution_count": 65,
   "id": "51189e80-0df3-4b6d-8f45-b645a6446f91",
   "metadata": {},
   "outputs": [],
   "source": [
    "inb, outb = get_biases(args)"
   ]
  },
  {
   "cell_type": "code",
   "execution_count": 66,
   "id": "8fe81700-cac2-43a8-9f66-808b6f8b2767",
   "metadata": {},
   "outputs": [],
   "source": [
    "for analysis in lognormal, lpt:\n",
    "    analysis.model = LinearRegression()\n",
    "    analysis.model.fit(analysis.in_b.reshape((len(analysis.in_b), 1)), analysis.out_b)"
   ]
  },
  {
   "cell_type": "code",
   "execution_count": 67,
   "id": "5b8b4173-eb80-40b9-9763-4db7ceecd5da",
   "metadata": {},
   "outputs": [
    {
     "data": {
      "application/vnd.jupyter.widget-view+json": {
       "model_id": "58c02c4d9e83441d92eb4e769a1922eb",
       "version_major": 2,
       "version_minor": 0
      },
      "text/html": [
       "\n",
       "            <div style=\"display: inline-block;\">\n",
       "                <div class=\"jupyter-widgets widget-label\" style=\"text-align: center;\">\n",
       "                    Figure\n",
       "                </div>\n",
       "                <img src='data:image/png;base64,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' width=640.0/>\n",
       "            </div>\n",
       "        "
      ],
      "text/plain": [
       "Canvas(toolbar=Toolbar(toolitems=[('Home', 'Reset original view', 'home', 'home'), ('Back', 'Back to previous …"
      ]
     },
     "metadata": {},
     "output_type": "display_data"
    }
   ],
   "source": [
    "fig, ax = plt.subplots()\n",
    "\n",
    "in_b = np.linspace(2, 4, 100)\n",
    "for analysis in lognormal,lpt:\n",
    "    ax.scatter(analysis.in_b, analysis.out_b, c=analysis.color, label=analysis)\n",
    "    ax.plot(in_b, analysis.model.predict(in_b.reshape((len(in_b)),1)), c=analysis.color, linestyle='dashed')\n",
    "\n",
    "ax.legend()\n",
    "ax.grid()\n",
    "ax.set_xlabel('input bias')\n",
    "ax.set_ylabel('best bias');"
   ]
  },
  {
   "cell_type": "code",
   "execution_count": 68,
   "id": "faf7de6c-7c78-4a5d-a22c-bcfaf5aa20d6",
   "metadata": {},
   "outputs": [
    {
     "name": "stdout",
     "output_type": "stream",
     "text": [
      "lognormal\n",
      "  in B    best B\n",
      "------  --------\n",
      " 2.72    1.91925\n",
      " 2.73    1.92033\n",
      " 2.74    1.92139\n",
      " 2.76    1.92791\n",
      " 2.77    1.92688\n",
      " 2.87    1.94937\n",
      " 2.99    1.97058\n",
      " 3.05    1.98283\n",
      " 3.11    1.98868\n",
      " 3.17    2.00099\n",
      " 3.23    2.00795\n",
      " 3.35    2.01336\n",
      " 3.42    2.14951\n",
      " 3.44    2.14696\n",
      " 3.465   2.15108\n",
      " 3.48    2.15454\n",
      " 3.5     2.15332\n",
      " 3.51    2.15665\n",
      " 3.53    2.1606\n",
      " 3.54    2.16274\n",
      "\n",
      "\n",
      "2LPT\n",
      "  in B    best B\n",
      "------  --------\n",
      "  2.03   1.78865\n",
      "  2.04   1.79067\n",
      "  2.05   1.80092\n",
      "  2.16   1.85216\n",
      "  2.2    1.87177\n",
      "  2.24   1.88641\n",
      "  2.32   1.92424\n",
      "  2.4    1.95383\n",
      "  2.43   2.12199\n",
      "  2.45   2.1268\n",
      "  2.74   2.22529\n",
      "  2.75   2.2265\n",
      "  2.76   2.23239\n",
      "  2.77   2.23594\n",
      "  2.79   2.23956\n",
      "  2.8    2.24083\n",
      "\n",
      "\n"
     ]
    }
   ],
   "source": [
    "for analysis in lognormal, lpt:\n",
    "    print(analysis)\n",
    "    table = np.asarray([analysis.in_b, analysis.out_b])\n",
    "    print(tabulate(table.transpose(), headers=['in B', 'best B']))\n",
    "    print('\\n')"
   ]
  },
  {
   "cell_type": "code",
   "execution_count": 69,
   "id": "53e89cb4-6eb0-4f78-8fdf-47278a3dc855",
   "metadata": {
    "tags": []
   },
   "outputs": [],
   "source": [
    "def get_b_from_B(B, analysis):\n",
    "    return (B-analysis.model.intercept_)/analysis.model.coef_"
   ]
  },
  {
   "cell_type": "code",
   "execution_count": 70,
   "id": "79806e0d-f59f-477c-a4f3-f208e3926673",
   "metadata": {},
   "outputs": [
    {
     "data": {
      "text/plain": [
       "array([3.16838859])"
      ]
     },
     "execution_count": 70,
     "metadata": {},
     "output_type": "execute_result"
    }
   ],
   "source": [
    "get_b_from_B(2.0381347426902927, lognormal)"
   ]
  },
  {
   "cell_type": "code",
   "execution_count": 71,
   "id": "13df04f3-8119-400d-ade0-a52fc71653b2",
   "metadata": {},
   "outputs": [
    {
     "data": {
      "text/plain": [
       "array([2.44243212])"
      ]
     },
     "execution_count": 71,
     "metadata": {},
     "output_type": "execute_result"
    }
   ],
   "source": [
    "get_b_from_B(2.0381347426902927, lpt)"
   ]
  },
  {
   "cell_type": "markdown",
   "id": "92b02c60-f054-44ec-946e-36774e604025",
   "metadata": {},
   "source": [
    "If ignore first bias (if it is 0)"
   ]
  },
  {
   "cell_type": "code",
   "execution_count": 14,
   "id": "d92e644a-5c54-4796-8c44-e74254b86bfc",
   "metadata": {},
   "outputs": [],
   "source": [
    "for analysis in lognormal, lpt:\n",
    "    analysis.model = LinearRegression()\n",
    "    analysis.model.fit(analysis.in_b[1:].reshape((len(analysis.in_b[1:]), 1)), analysis.out_b[1:])"
   ]
  },
  {
   "cell_type": "code",
   "execution_count": 15,
   "id": "83ae3f57-1364-4b2a-85f7-173a628116e2",
   "metadata": {},
   "outputs": [
    {
     "data": {
      "image/png": "[encoded data removed]",
      "text/plain": [
       "<Figure size 432x288 with 1 Axes>"
      ]
     },
     "metadata": {
      "needs_background": "light"
     },
     "output_type": "display_data"
    }
   ],
   "source": [
    "fig, ax = plt.subplots()\n",
    "\n",
    "in_b = np.linspace(2.5, 4, 100)\n",
    "for analysis in lognormal,lpt:\n",
    "    ax.scatter(analysis.in_b[1:], analysis.out_b[1:], c=analysis.color, label=analysis)\n",
    "    ax.plot(in_b, analysis.model.predict(in_b.reshape((len(in_b)),1)), c=analysis.color, linestyle='dashed')\n",
    "\n",
    "ax.legend()\n",
    "ax.grid()\n",
    "ax.set_xlabel('input bias')\n",
    "ax.set_ylabel('best bias');"
   ]
  },
  {
   "cell_type": "code",
   "execution_count": 16,
   "id": "165e9782-c823-424c-aa57-95b281cde96c",
   "metadata": {},
   "outputs": [
    {
     "name": "stdout",
     "output_type": "stream",
     "text": [
      "lognormal\n",
      "  in B    best B\n",
      "------  --------\n",
      " 3.465   2.15108\n",
      " 3.48    2.15454\n",
      " 3.5     2.15332\n",
      " 3.51    2.15665\n",
      " 3.53    2.1606\n",
      " 3.54    2.16274\n",
      "\n",
      "\n",
      "2LPT\n",
      "  in B    best B\n",
      "------  --------\n",
      "  2.74   2.22529\n",
      "  2.75   2.2265\n",
      "  2.76   2.23239\n",
      "  2.77   2.23594\n",
      "  2.79   2.23956\n",
      "  2.8    2.24083\n",
      "\n",
      "\n"
     ]
    }
   ],
   "source": [
    "for analysis in lognormal, lpt:\n",
    "    print(analysis)\n",
    "    table = np.asarray([analysis.in_b, analysis.out_b])\n",
    "    print(tabulate(table.transpose(), headers=['in B', 'best B']))\n",
    "    print('\\n')"
   ]
  },
  {
   "cell_type": "code",
   "execution_count": 17,
   "id": "83fc7cc4-b191-4bd1-8e43-3cae4286bafc",
   "metadata": {
    "tags": []
   },
   "outputs": [],
   "source": [
    "def get_b_from_B(B, analysis):\n",
    "    return (B-analysis.model.intercept_)/analysis.model.coef_"
   ]
  },
  {
   "cell_type": "code",
   "execution_count": 18,
   "id": "321780ac-ca83-4af5-b0c4-86d17dfe9244",
   "metadata": {},
   "outputs": [
    {
     "data": {
      "text/plain": [
       "array([2.73210451])"
      ]
     },
     "execution_count": 18,
     "metadata": {},
     "output_type": "execute_result"
    }
   ],
   "source": [
    "get_b_from_B(2.0381347426902927, lognormal)"
   ]
  },
  {
   "cell_type": "code",
   "execution_count": 19,
   "id": "bf491a42-fc1f-4946-b2b7-d27358714720",
   "metadata": {},
   "outputs": [
    {
     "data": {
      "text/plain": [
       "array([2.03978438])"
      ]
     },
     "execution_count": 19,
     "metadata": {},
     "output_type": "execute_result"
    }
   ],
   "source": [
    "get_b_from_B(2.0381347426902927, lpt)"
   ]
  },
  {
   "cell_type": "code",
   "execution_count": null,
   "id": "db267ed4-4a4d-4233-a77a-b1713759c03e",
   "metadata": {},
   "outputs": [],
   "source": []
  }
 ],
 "metadata": {
  "kernelspec": {
   "display_name": "CoLoRe",
   "language": "python",
   "name": "colore"
  },
  "language_info": {
   "codemirror_mode": {
    "name": "ipython",
    "version": 3
   },
   "file_extension": ".py",
   "mimetype": "text/x-python",
   "name": "python",
   "nbconvert_exporter": "python",
   "pygments_lexer": "ipython3",
   "version": "3.8.5"
  }
 },
 "nbformat": 4,
 "nbformat_minor": 5
}
