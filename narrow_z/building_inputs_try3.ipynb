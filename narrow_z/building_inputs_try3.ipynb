{
 "cells": [
  {
   "cell_type": "code",
   "execution_count": 1,
   "id": "7c42fcbe-66eb-4e8a-b79f-8a8f896ff634",
   "metadata": {},
   "outputs": [],
   "source": [
    "from pathlib import Path\n",
    "from astropy.io import fits\n",
    "import matplotlib.pyplot as plt\n",
    "import numpy as np"
   ]
  },
  {
   "cell_type": "markdown",
   "id": "84fe05f0-29b0-40ff-a4e0-7db070495de0",
   "metadata": {},
   "source": [
    "We want to generate a CoLoRe box of width z in (1.2, 1.4) with a number of quasars comparable with the number of quasars in an Abacus sim. \n",
    "Firstly we will check how many quasars there are in an abacus sim:\n"
   ]
  },
  {
   "cell_type": "code",
   "execution_count": 2,
   "id": "95b6ff7c-a431-4413-a054-93ced197ab91",
   "metadata": {},
   "outputs": [
    {
     "name": "stdout",
     "output_type": "stream",
     "text": [
      "objects in 1 abacus realisation:  1012853\n"
     ]
    }
   ],
   "source": [
    "count = 0\n",
    "for file in Path('/global/cfs/cdirs/desi/cosmosim/FirstGenMocks/AbacusSummit/CubicBox/QSO/z1.400/AbacusSummit_base_c000_ph000').iterdir():\n",
    "    if '.fits' in file.name:\n",
    "        x = fits.open(file)\n",
    "        count += x[1].header['NAXIS2']\n",
    "        \n",
    "n_abacus = count\n",
    "print('objects in 1 abacus realisation: ', n_abacus)"
   ]
  },
  {
   "cell_type": "code",
   "execution_count": 3,
   "id": "d3290242-b912-4bdd-b8db-e3b981461f43",
   "metadata": {},
   "outputs": [
    {
     "name": "stdout",
     "output_type": "stream",
     "text": [
      "objects in all abacus sims: 2.53e+07\n"
     ]
    }
   ],
   "source": [
    "print(f'objects in all abacus sims: {n_abacus*25:.2e}') "
   ]
  },
  {
   "cell_type": "markdown",
   "id": "abe67638-80d5-4dfc-95c9-b129aa25cf03",
   "metadata": {},
   "source": [
    "In a previous CoLoRe simulation I had 83M objects. Let's do 75M as it should be 3 times larger."
   ]
  },
  {
   "cell_type": "markdown",
   "id": "cbcffa9c-0f3b-4ebf-9e89-f112760e1f1b",
   "metadata": {},
   "source": [
    "----\n",
    "\n",
    "## Building dndz"
   ]
  },
  {
   "cell_type": "markdown",
   "id": "74a2f6da-89c3-4459-9509-efb709f239ea",
   "metadata": {},
   "source": [
    "Let's build a flat shapped distribution this time. With a total number of objects of 75M."
   ]
  },
  {
   "cell_type": "code",
   "execution_count": 4,
   "id": "79420c72-e034-4f8d-9493-77d336ade54b",
   "metadata": {},
   "outputs": [],
   "source": [
    "from scipy.integrate import quad"
   ]
  },
  {
   "cell_type": "code",
   "execution_count": 5,
   "id": "36c69330-4baf-44ed-86e3-9597a949b0dd",
   "metadata": {},
   "outputs": [],
   "source": [
    "zs = np.linspace(0, 2, 100)\n",
    "dndz = np.ones_like(zs)*75e6*np.pi/(0.4*129600)"
   ]
  },
  {
   "cell_type": "code",
   "execution_count": 6,
   "id": "9f165889-4099-47d2-9134-e3e65de3259e",
   "metadata": {},
   "outputs": [],
   "source": [
    "to_save = np.transpose((zs, dndz))"
   ]
  },
  {
   "cell_type": "code",
   "execution_count": 7,
   "id": "3655513a-40cb-4a8e-a9f8-90cee0f698c7",
   "metadata": {},
   "outputs": [],
   "source": [
    "np.savetxt('/global/project/projectdirs/desi/users/cramirez/QSO_clustering_analysis/input_files/compare_abacus/dndz.txt',\n",
    "               to_save)"
   ]
  },
  {
   "cell_type": "markdown",
   "id": "db5e76d6-3d70-4a4e-97b7-4974202d15c9",
   "metadata": {},
   "source": [
    "## Building bias"
   ]
  },
  {
   "cell_type": "markdown",
   "id": "7378b076-7acc-45c7-8f31-3983f6fdd8c1",
   "metadata": {},
   "source": [
    "We wanted our effective bias to be the best bias of our linear model against Abacus."
   ]
  },
  {
   "cell_type": "markdown",
   "id": "dd39c1af-a581-4047-83ef-07f320b2c6ee",
   "metadata": {},
   "source": [
    "We fitted bias for Abcus in the range (30, 80), leaving a bias of: 2.1455380092745884.\n",
    "\n",
    "For noRSD: 2.1440368346567524"
   ]
  },
  {
   "cell_type": "markdown",
   "id": "61c95cbd-925d-477a-9234-94cf820f107f",
   "metadata": {},
   "source": [
    "I'll target 2.145"
   ]
  },
  {
   "cell_type": "code",
   "execution_count": 7,
   "id": "dadc23c0-bad8-483d-9010-41f141d0563c",
   "metadata": {},
   "outputs": [],
   "source": [
    "bias_lognormal = 2.73\n",
    "bias_lpt = 2.04\n",
    "\n",
    "biases_lognormal = np.linspace(bias_lognormal*0.98, bias_lognormal*1.02, 10)\n",
    "biases_lpt = np.linspace(bias_lpt*0.98, bias_lpt*1.02, 10)"
   ]
  },
  {
   "cell_type": "code",
   "execution_count": 19,
   "id": "81a9dc7b-2187-495d-b831-689b46ac6f9c",
   "metadata": {},
   "outputs": [],
   "source": [
    "biases_lognormal = np.linspace(-0.04,0.04, 9) + bias_lognormal\n",
    "biases_lpt = np.linspace(-0.04, 0.04, 9) + bias_lpt"
   ]
  },
  {
   "cell_type": "code",
   "execution_count": 20,
   "id": "9a6e1863-25bd-414a-bed5-aa9229e5559e",
   "metadata": {},
   "outputs": [
    {
     "data": {
      "text/plain": [
       "array([2.69, 2.7 , 2.71, 2.72, 2.73, 2.74, 2.75, 2.76, 2.77])"
      ]
     },
     "execution_count": 20,
     "metadata": {},
     "output_type": "execute_result"
    }
   ],
   "source": [
    "biases_lognormal"
   ]
  },
  {
   "cell_type": "code",
   "execution_count": 21,
   "id": "c813c027-5cf2-47be-8a9e-47e4c8c114ed",
   "metadata": {},
   "outputs": [
    {
     "data": {
      "text/plain": [
       "array([2.  , 2.01, 2.02, 2.03, 2.04, 2.05, 2.06, 2.07, 2.08])"
      ]
     },
     "execution_count": 21,
     "metadata": {},
     "output_type": "execute_result"
    }
   ],
   "source": [
    "biases_lpt"
   ]
  },
  {
   "cell_type": "code",
   "execution_count": 22,
   "id": "61274e26-8012-4dfb-89b2-1976d12da518",
   "metadata": {},
   "outputs": [],
   "source": [
    "for i,bias in enumerate(biases_lognormal):\n",
    "    to_save = np.transpose((zs, np.ones_like(zs)*bias))\n",
    "    np.savetxt(f'/global/project/projectdirs/desi/users/cramirez/QSO_clustering_analysis/input_files/compare_abacus/biases_lognormal_try3/bias_{i+1}.txt', to_save)\n",
    "for i, bias in enumerate(biases_lpt):\n",
    "    to_save = np.transpose((zs, np.ones_like(zs)*bias))\n",
    "    np.savetxt(f'/global/project/projectdirs/desi/users/cramirez/QSO_clustering_analysis/input_files/compare_abacus/biases_lpt_try3/bias_{i+1}.txt', to_save)"
   ]
  },
  {
   "cell_type": "code",
   "execution_count": null,
   "id": "a8354f86-98ba-4fb7-bdca-6e068bb33196",
   "metadata": {},
   "outputs": [],
   "source": []
  }
 ],
 "metadata": {
  "kernelspec": {
   "display_name": "CoLoRe",
   "language": "python",
   "name": "colore"
  },
  "language_info": {
   "codemirror_mode": {
    "name": "ipython",
    "version": 3
   },
   "file_extension": ".py",
   "mimetype": "text/x-python",
   "name": "python",
   "nbconvert_exporter": "python",
   "pygments_lexer": "ipython3",
   "version": "3.8.5"
  }
 },
 "nbformat": 4,
 "nbformat_minor": 5
}
