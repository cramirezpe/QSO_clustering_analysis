{
 "cells": [
  {
   "cell_type": "code",
   "execution_count": 1,
   "id": "45bb94be-85d4-4604-b7f0-43e4a1c760e3",
   "metadata": {},
   "outputs": [],
   "source": [
    "from CoLoRe_corrf_analysis.plot_methods import Plots\n",
    "from CoLoRe_corrf_analysis.file_funcs import FileFuncs\n",
    "from CoLoRe_corrf_analysis.fitter import Fitter\n",
    "from CoLoRe_corrf_analysis.read_colore import ComputeModelsCoLoRe"
   ]
  },
  {
   "cell_type": "code",
   "execution_count": 2,
   "id": "40e51819-e235-47e0-94ff-2e9999a4adf4",
   "metadata": {},
   "outputs": [],
   "source": [
    "from pathlib import Path\n",
    "import matplotlib.pyplot as plt\n",
    "import numpy as np"
   ]
  },
  {
   "cell_type": "code",
   "execution_count": 3,
   "id": "99781295-d11f-441a-b20e-fe6cd2379e49",
   "metadata": {},
   "outputs": [],
   "source": [
    "basedir = Path('/global/cscratch1/sd/cramirez/QSO_clustering_analysis/')"
   ]
  },
  {
   "cell_type": "code",
   "execution_count": 4,
   "id": "98220737-d43a-4287-9417-e4fff23d9060",
   "metadata": {},
   "outputs": [],
   "source": [
    "theory_path = basedir / 'CoLoRe_boxes' / '10x_DESI_box'\n",
    "assert theory_path.is_dir()\n",
    "\n",
    "theory = ComputeModelsCoLoRe(\n",
    "    box_path=theory_path,\n",
    "    source=1,\n",
    "    apply_lognormal=True)"
   ]
  },
  {
   "cell_type": "code",
   "execution_count": 5,
   "id": "345054a4-5cf2-4112-91e5-68986d0acfd5",
   "metadata": {},
   "outputs": [],
   "source": [
    "def get_boxes(path, rsd=False, rmin=0.1, rmax=200, N_bins=41, zmin=0.8, zmax=0.9, nside=2):\n",
    "    return FileFuncs.mix_sims(\n",
    "        FileFuncs.get_full_path(path,\n",
    "                                rsd=rsd, rsd2=None, \n",
    "                                rmin=rmin, rmax=rmax, N_bins=N_bins,\n",
    "                                zmin=zmin, zmax=zmax, nside=2)\n",
    "    )"
   ]
  },
  {
   "cell_type": "code",
   "execution_count": 6,
   "id": "8a033620-84be-4e59-b93c-6bdd1d269d6f",
   "metadata": {},
   "outputs": [
    {
     "name": "stdout",
     "output_type": "stream",
     "text": [
      "2526771 2667946\n",
      "0.8552310604780813\n"
     ]
    },
    {
     "name": "stderr",
     "output_type": "stream",
     "text": [
      "/global/homes/c/cramirez/.local/cori/3.8-anaconda-2020.11/lib/python3.8/site-packages/mcfit/mcfit.py:126: UserWarning: The default value of lowring has been changed to False, set it to True if you cannot reproduce previous results\n",
      "  warnings.warn(\"The default value of lowring has been changed to False, \"\n",
      "/global/homes/c/cramirez/.local/cori/3.8-anaconda-2020.11/lib/python3.8/site-packages/mcfit/mcfit.py:217: UserWarning: The default value of extrap has been changed to False, set it to True if you cannot reproduce previous results\n",
      "  warnings.warn(\"The default value of extrap has been changed to False, \"\n",
      "No handles with labels found to put in legend.\n"
     ]
    },
    {
     "data": {
      "text/plain": [
       "<matplotlib.legend.Legend at 0x2aaae6317a90>"
      ]
     },
     "execution_count": 6,
     "metadata": {},
     "output_type": "execute_result"
    },
    {
     "data": {
      "image/png": "[encoded data removed]",
      "text/plain": [
       "<Figure size 432x288 with 1 Axes>"
      ]
     },
     "metadata": {
      "needs_background": "light"
     },
     "output_type": "display_data"
    }
   ],
   "source": [
    "boxes = get_boxes(basedir / 'corrf' / 'high_3x2_600')\n",
    "meandat = 0\n",
    "meanrand= 0\n",
    "for box in boxes:\n",
    "    meandat+= box.sizes['Data']\n",
    "    meanrand += box.sizes['Randoms']\n",
    "\n",
    "print(meandat, meanrand)\n",
    "z = theory.get_zeff(0.8, 0.9)\n",
    "print(z)\n",
    "\n",
    "fig, ax = plt.subplots()\n",
    "pole=0\n",
    "\n",
    "Plots.plot_data(pole, boxes, ax=ax)\n",
    "Plots.plot_theory(pole, z=z, theory=theory, ax=ax, rsd=False, bias=1.6)\n",
    "ax.legend()"
   ]
  }
 ],
 "metadata": {
  "kernelspec": {
   "display_name": "CoLoRe",
   "language": "python",
   "name": "colore"
  },
  "language_info": {
   "codemirror_mode": {
    "name": "ipython",
    "version": 3
   },
   "file_extension": ".py",
   "mimetype": "text/x-python",
   "name": "python",
   "nbconvert_exporter": "python",
   "pygments_lexer": "ipython3",
   "version": "3.8.5"
  }
 },
 "nbformat": 4,
 "nbformat_minor": 5
}
