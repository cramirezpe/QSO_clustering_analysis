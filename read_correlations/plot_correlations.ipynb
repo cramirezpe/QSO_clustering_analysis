{
 "cells": [
  {
   "cell_type": "code",
   "execution_count": 1,
   "id": "8dcece23-d253-49d0-9b81-9aa5809dfb46",
   "metadata": {},
   "outputs": [],
   "source": [
    "%matplotlib widget"
   ]
  },
  {
   "cell_type": "code",
   "execution_count": 2,
   "id": "7b70e5e1-f9ed-4a9f-ba61-d01787886ebe",
   "metadata": {},
   "outputs": [
    {
     "name": "stderr",
     "output_type": "stream",
     "text": [
      "/home/cramirpe/anaconda3/envs/CoLoRe/lib/python3.9/site-packages/halotools/sim_manager/halo_table_cache.py:12: UserWarning: Some of the functionality of the HaloTableCache classrequires h5py to be installed.\n",
      "  warn(\"Some of the functionality of the HaloTableCache class\"\n",
      "/home/cramirpe/anaconda3/envs/CoLoRe/lib/python3.9/site-packages/halotools/sim_manager/halo_table_cache_log_entry.py:14: UserWarning: Most of the functionality of the sim_manager sub-package requires h5py to be installed,\n",
      "which can be accomplished either with pip or conda. \n",
      "  warn(\"Most of the functionality of the \"\n",
      "/home/cramirpe/anaconda3/envs/CoLoRe/lib/python3.9/site-packages/halotools/sim_manager/user_supplied_ptcl_catalog.py:13: UserWarning: Most of the functionality of the sim_manager sub-package requires h5py to be installed,\n",
      "which can be accomplished either with pip or conda\n",
      "  warn(\"Most of the functionality of the sim_manager \"\n",
      "/home/cramirpe/anaconda3/envs/CoLoRe/lib/python3.9/site-packages/halotools/sim_manager/ptcl_table_cache_log_entry.py:16: UserWarning: Most of the functionality of the sim_manager sub-package requires h5py to be installed,\n",
      "which can be accomplished either with pip or conda. \n",
      "  warn(\"Most of the functionality of the \"\n",
      "/home/cramirpe/anaconda3/envs/CoLoRe/lib/python3.9/site-packages/halotools/sim_manager/download_manager.py:39: UserWarning: Some of the functionality of the DownloadManager requires h5py to be installed,\n",
      "which can be accomplished either with pip or conda\n",
      "  warn(\"Some of the functionality of the DownloadManager requires h5py to be installed,\\n\"\n",
      "/home/cramirpe/anaconda3/envs/CoLoRe/lib/python3.9/site-packages/halotools/sim_manager/cached_halo_catalog.py:18: UserWarning: Most of the functionality of the sim_manager sub-package requires h5py to be installed,\n",
      "which can be accomplished either with pip or conda. \n",
      "  warn(\"Most of the functionality of the \"\n",
      "/home/cramirpe/anaconda3/envs/CoLoRe/lib/python3.9/site-packages/halotools/sim_manager/rockstar_hlist_reader.py:19: UserWarning: Most of the functionality of the sim_manager sub-package requires h5py to be installed,\n",
      "which can be accomplished either with pip or conda. \n",
      "  warn(\"Most of the functionality of the \"\n"
     ]
    }
   ],
   "source": [
    "from CoLoRe_corrf_analysis.plot_methods import Plots\n",
    "from CoLoRe_corrf_analysis.file_funcs import FileFuncs\n",
    "from CoLoRe_corrf_analysis.fitter import Fitter\n",
    "from CoLoRe_corrf_analysis.read_colore import ComputeModelsCoLoRe"
   ]
  },
  {
   "cell_type": "code",
   "execution_count": 3,
   "id": "a201a0c3-82a8-407e-bbaf-0e43f3157253",
   "metadata": {},
   "outputs": [],
   "source": [
    "from pathlib import Path\n",
    "import matplotlib.pyplot as plt\n",
    "import numpy as np"
   ]
  },
  {
   "cell_type": "code",
   "execution_count": 4,
   "id": "2f7c026b-ec22-49dd-adfa-af85d4167ef9",
   "metadata": {},
   "outputs": [],
   "source": [
    "corrf_files = Path('/mnt/c/Users/crami/Cosmo IFAE Dropbox/César Ramírez/Work/QSO_clustering_analysis/corrf')\n",
    "colore_boxes = corrf_files.parent / 'CoLoRe_boxes'"
   ]
  },
  {
   "cell_type": "code",
   "execution_count": 5,
   "id": "042aa4fd-5b01-4ab0-a5f5-033a33c6dee1",
   "metadata": {},
   "outputs": [],
   "source": [
    "theory_path = colore_boxes / 'high_3x2_600'\n",
    "assert theory_path.is_dir()\n",
    "\n",
    "theory = ComputeModelsCoLoRe(\n",
    "    box_path=theory_path,\n",
    "    source=1,\n",
    "    apply_lognormal=True)"
   ]
  },
  {
   "cell_type": "code",
   "execution_count": 6,
   "id": "f52539f8-7b1e-4313-99f9-884b583e40f7",
   "metadata": {},
   "outputs": [],
   "source": [
    "def get_boxes(path, rsd=False, rmin=0.1, rmax=200, N_bins=41, zmin=0.8, zmax=0.9, nside=2):\n",
    "    return FileFuncs.mix_sims(\n",
    "        FileFuncs.get_full_path(path,\n",
    "                                rsd=rsd, rsd2=None, \n",
    "                                rmin=rmin, rmax=rmax, N_bins=N_bins,\n",
    "                                zmin=zmin, zmax=zmax, nside=2)\n",
    "    )"
   ]
  },
  {
   "cell_type": "code",
   "execution_count": 13,
   "id": "f84e6241-59a6-40f3-b78a-ccdb396fe964",
   "metadata": {},
   "outputs": [],
   "source": [
    "class NotebookHelper:\n",
    "    pass\n",
    "\n",
    "analyses = []\n",
    "\n",
    "_ = NotebookHelper()\n",
    "_.path = corrf_files / 'high_3x2_600'\n",
    "_.bias_model = 1\n",
    "_.dens_type = 0\n",
    "_.boxes = get_boxes(_.path)\n",
    "analyses.append(_)\n",
    "\n",
    "_ = NotebookHelper()\n",
    "_.path = corrf_files / 'high_3x2_600_bias2'\n",
    "_.bias_model = 2\n",
    "_.dens_type = 0\n",
    "_.boxes = get_boxes(_.path)\n",
    "analyses.append(_)\n",
    "\n",
    "_ = NotebookHelper()\n",
    "_.path = corrf_files / 'high_3x2_600_bias3'\n",
    "_.bias_model = 3\n",
    "_.dens_type = 0\n",
    "_.boxes = get_boxes(_.path)\n",
    "analyses.append(_)\n",
    "\n",
    "# 2LPT FIELDS (WHENEVER THEY ARE READY)\n",
    "_ = NotebookHelper()\n",
    "_.path = corrf_files / 'high_3x2_600'\n",
    "_.bias_model = 1\n",
    "_.dens_type = 0\n",
    "_.boxes = get_boxes(_.path)\n",
    "analyses.append(_)\n",
    "\n",
    "_ = NotebookHelper()\n",
    "_.path = corrf_files / 'high_3x2_600_bias2'\n",
    "_.bias_model = 2\n",
    "_.dens_type = 0\n",
    "_.boxes = get_boxes(_.path)\n",
    "analyses.append(_)\n",
    "\n",
    "_ = NotebookHelper()\n",
    "_.path = corrf_files / 'high_3x2_600_bias3'\n",
    "_.bias_model = 3\n",
    "_.dens_type = 0\n",
    "_.boxes = get_boxes(_.path)\n",
    "analyses.append(_)\n",
    "\n",
    "for analysis in analyses:\n",
    "    assert analysis.path.is_dir()"
   ]
  },
  {
   "cell_type": "code",
   "execution_count": 15,
   "id": "8fc30e12-1566-4535-bcd9-4948c1746f02",
   "metadata": {},
   "outputs": [
    {
     "data": {
      "application/vnd.jupyter.widget-view+json": {
       "model_id": "7d52a3112b9c4a6b8534ccdaae4b1987",
       "version_major": 2,
       "version_minor": 0
      },
      "text/plain": [
       "Canvas(toolbar=Toolbar(toolitems=[('Home', 'Reset original view', 'home', 'home'), ('Back', 'Back to previous …"
      ]
     },
     "metadata": {},
     "output_type": "display_data"
    },
    {
     "name": "stderr",
     "output_type": "stream",
     "text": [
      "/home/cramirpe/anaconda3/envs/CoLoRe/lib/python3.9/site-packages/mcfit/mcfit.py:126: UserWarning: The default value of lowring has been changed to False, set it to True if you cannot reproduce previous results\n",
      "  warnings.warn(\"The default value of lowring has been changed to False, \"\n",
      "/home/cramirpe/anaconda3/envs/CoLoRe/lib/python3.9/site-packages/mcfit/mcfit.py:217: UserWarning: The default value of extrap has been changed to False, set it to True if you cannot reproduce previous results\n",
      "  warnings.warn(\"The default value of extrap has been changed to False, \"\n",
      "/home/cramirpe/anaconda3/envs/CoLoRe/lib/python3.9/site-packages/mcfit/mcfit.py:126: UserWarning: The default value of lowring has been changed to False, set it to True if you cannot reproduce previous results\n",
      "  warnings.warn(\"The default value of lowring has been changed to False, \"\n",
      "/home/cramirpe/anaconda3/envs/CoLoRe/lib/python3.9/site-packages/mcfit/mcfit.py:217: UserWarning: The default value of extrap has been changed to False, set it to True if you cannot reproduce previous results\n",
      "  warnings.warn(\"The default value of extrap has been changed to False, \"\n",
      "/home/cramirpe/anaconda3/envs/CoLoRe/lib/python3.9/site-packages/mcfit/mcfit.py:126: UserWarning: The default value of lowring has been changed to False, set it to True if you cannot reproduce previous results\n",
      "  warnings.warn(\"The default value of lowring has been changed to False, \"\n",
      "/home/cramirpe/anaconda3/envs/CoLoRe/lib/python3.9/site-packages/mcfit/mcfit.py:217: UserWarning: The default value of extrap has been changed to False, set it to True if you cannot reproduce previous results\n",
      "  warnings.warn(\"The default value of extrap has been changed to False, \"\n",
      "/home/cramirpe/anaconda3/envs/CoLoRe/lib/python3.9/site-packages/mcfit/mcfit.py:126: UserWarning: The default value of lowring has been changed to False, set it to True if you cannot reproduce previous results\n",
      "  warnings.warn(\"The default value of lowring has been changed to False, \"\n",
      "/home/cramirpe/anaconda3/envs/CoLoRe/lib/python3.9/site-packages/mcfit/mcfit.py:217: UserWarning: The default value of extrap has been changed to False, set it to True if you cannot reproduce previous results\n",
      "  warnings.warn(\"The default value of extrap has been changed to False, \"\n",
      "/home/cramirpe/anaconda3/envs/CoLoRe/lib/python3.9/site-packages/mcfit/mcfit.py:126: UserWarning: The default value of lowring has been changed to False, set it to True if you cannot reproduce previous results\n",
      "  warnings.warn(\"The default value of lowring has been changed to False, \"\n",
      "/home/cramirpe/anaconda3/envs/CoLoRe/lib/python3.9/site-packages/mcfit/mcfit.py:217: UserWarning: The default value of extrap has been changed to False, set it to True if you cannot reproduce previous results\n",
      "  warnings.warn(\"The default value of extrap has been changed to False, \"\n",
      "/home/cramirpe/anaconda3/envs/CoLoRe/lib/python3.9/site-packages/mcfit/mcfit.py:126: UserWarning: The default value of lowring has been changed to False, set it to True if you cannot reproduce previous results\n",
      "  warnings.warn(\"The default value of lowring has been changed to False, \"\n",
      "/home/cramirpe/anaconda3/envs/CoLoRe/lib/python3.9/site-packages/mcfit/mcfit.py:217: UserWarning: The default value of extrap has been changed to False, set it to True if you cannot reproduce previous results\n",
      "  warnings.warn(\"The default value of extrap has been changed to False, \"\n"
     ]
    }
   ],
   "source": [
    "fig, axs = plt.subplots(ncols=3, nrows=2, sharey=True)\n",
    "z = theory.get_zeff(0.8, 0.9)\n",
    "pole=0\n",
    "\n",
    "axs = np.asarray(axs).reshape(-1)\n",
    "for ax, analysis in zip(axs, analyses):\n",
    "    Plots.plot_data(pole, analysis.boxes, ax=ax, no_labels=True)\n",
    "    Plots.plot_theory(pole, z=z, theory=theory, ax=ax, rsd=False, no_labels=True)\n",
    "    ax.set_title(analysis.path.name)\n",
    "    \n",
    "fig.supylabel(r'$r^2 \\, \\xi(r) \\, {\\rm [(Mpc/h){^2}]}$', x=0.05)\n",
    "fig.supxlabel(r'$r \\, {\\rm [Mpc/h]}$')\n",
    "plt.subplots_adjust(wspace=0.1)"
   ]
  },
  {
   "cell_type": "markdown",
   "id": "10795568-75b7-4dda-8b1e-657874431a2a",
   "metadata": {},
   "source": [
    "## Perform fits"
   ]
  },
  {
   "cell_type": "code",
   "execution_count": 16,
   "id": "ee95c2a5-f736-401c-8246-5ac64005b37f",
   "metadata": {},
   "outputs": [
    {
     "name": "stdout",
     "output_type": "stream",
     "text": [
      "1\n"
     ]
    },
    {
     "name": "stderr",
     "output_type": "stream",
     "text": [
      "/home/cramirpe/anaconda3/envs/CoLoRe/lib/python3.9/site-packages/mcfit/mcfit.py:126: UserWarning: The default value of lowring has been changed to False, set it to True if you cannot reproduce previous results\n",
      "  warnings.warn(\"The default value of lowring has been changed to False, \"\n",
      "/home/cramirpe/anaconda3/envs/CoLoRe/lib/python3.9/site-packages/mcfit/mcfit.py:217: UserWarning: The default value of extrap has been changed to False, set it to True if you cannot reproduce previous results\n",
      "  warnings.warn(\"The default value of extrap has been changed to False, \"\n"
     ]
    },
    {
     "name": "stdout",
     "output_type": "stream",
     "text": [
      "2\n",
      "3\n",
      "1\n",
      "2\n",
      "3\n"
     ]
    }
   ],
   "source": [
    "for analysis in analyses:\n",
    "    print(analysis.bias_model)\n",
    "    analysis.fitter = Fitter(boxes=analysis.boxes, z=z, theory=theory, poles=[0], rsd=False, smooth_factor0=1, bias0=1.6, rmax={0:40})\n",
    "    analysis.fitter.run_fit(free_params=['bias', 'smooth_factor'])"
   ]
  },
  {
   "cell_type": "code",
   "execution_count": 19,
   "id": "e06a53ed-4adb-4b66-a4cf-9e57b58e88b2",
   "metadata": {},
   "outputs": [
    {
     "data": {
      "application/vnd.jupyter.widget-view+json": {
       "model_id": "0606522a363e45b29efb8f3a62d0a822",
       "version_major": 2,
       "version_minor": 0
      },
      "text/plain": [
       "Canvas(toolbar=Toolbar(toolitems=[('Home', 'Reset original view', 'home', 'home'), ('Back', 'Back to previous …"
      ]
     },
     "metadata": {},
     "output_type": "display_data"
    },
    {
     "name": "stderr",
     "output_type": "stream",
     "text": [
      "/home/cramirpe/anaconda3/envs/CoLoRe/lib/python3.9/site-packages/mcfit/mcfit.py:126: UserWarning: The default value of lowring has been changed to False, set it to True if you cannot reproduce previous results\n",
      "  warnings.warn(\"The default value of lowring has been changed to False, \"\n",
      "/home/cramirpe/anaconda3/envs/CoLoRe/lib/python3.9/site-packages/mcfit/mcfit.py:217: UserWarning: The default value of extrap has been changed to False, set it to True if you cannot reproduce previous results\n",
      "  warnings.warn(\"The default value of extrap has been changed to False, \"\n",
      "/home/cramirpe/anaconda3/envs/CoLoRe/lib/python3.9/site-packages/mcfit/mcfit.py:126: UserWarning: The default value of lowring has been changed to False, set it to True if you cannot reproduce previous results\n",
      "  warnings.warn(\"The default value of lowring has been changed to False, \"\n",
      "/home/cramirpe/anaconda3/envs/CoLoRe/lib/python3.9/site-packages/mcfit/mcfit.py:217: UserWarning: The default value of extrap has been changed to False, set it to True if you cannot reproduce previous results\n",
      "  warnings.warn(\"The default value of extrap has been changed to False, \"\n",
      "/home/cramirpe/anaconda3/envs/CoLoRe/lib/python3.9/site-packages/mcfit/mcfit.py:126: UserWarning: The default value of lowring has been changed to False, set it to True if you cannot reproduce previous results\n",
      "  warnings.warn(\"The default value of lowring has been changed to False, \"\n",
      "/home/cramirpe/anaconda3/envs/CoLoRe/lib/python3.9/site-packages/mcfit/mcfit.py:217: UserWarning: The default value of extrap has been changed to False, set it to True if you cannot reproduce previous results\n",
      "  warnings.warn(\"The default value of extrap has been changed to False, \"\n",
      "/home/cramirpe/anaconda3/envs/CoLoRe/lib/python3.9/site-packages/mcfit/mcfit.py:126: UserWarning: The default value of lowring has been changed to False, set it to True if you cannot reproduce previous results\n",
      "  warnings.warn(\"The default value of lowring has been changed to False, \"\n",
      "/home/cramirpe/anaconda3/envs/CoLoRe/lib/python3.9/site-packages/mcfit/mcfit.py:217: UserWarning: The default value of extrap has been changed to False, set it to True if you cannot reproduce previous results\n",
      "  warnings.warn(\"The default value of extrap has been changed to False, \"\n",
      "/home/cramirpe/anaconda3/envs/CoLoRe/lib/python3.9/site-packages/mcfit/mcfit.py:126: UserWarning: The default value of lowring has been changed to False, set it to True if you cannot reproduce previous results\n",
      "  warnings.warn(\"The default value of lowring has been changed to False, \"\n",
      "/home/cramirpe/anaconda3/envs/CoLoRe/lib/python3.9/site-packages/mcfit/mcfit.py:217: UserWarning: The default value of extrap has been changed to False, set it to True if you cannot reproduce previous results\n",
      "  warnings.warn(\"The default value of extrap has been changed to False, \"\n",
      "/home/cramirpe/anaconda3/envs/CoLoRe/lib/python3.9/site-packages/mcfit/mcfit.py:126: UserWarning: The default value of lowring has been changed to False, set it to True if you cannot reproduce previous results\n",
      "  warnings.warn(\"The default value of lowring has been changed to False, \"\n",
      "/home/cramirpe/anaconda3/envs/CoLoRe/lib/python3.9/site-packages/mcfit/mcfit.py:217: UserWarning: The default value of extrap has been changed to False, set it to True if you cannot reproduce previous results\n",
      "  warnings.warn(\"The default value of extrap has been changed to False, \"\n"
     ]
    }
   ],
   "source": [
    "fig, axs = plt.subplots(ncols=3, nrows=2, sharey=True)\n",
    "pole=0\n",
    "\n",
    "axs = np.asarray(axs).reshape(-1)\n",
    "for ax, analysis in zip(axs, analyses):\n",
    "    Plots.plot_data(pole, analysis.boxes, ax=ax, no_labels=True)\n",
    "#     Plots.plot_theory(pole, z=z, theory=theory, ax=ax, rsd=False, no_labels=True)\n",
    "    Plots.plot_best_fit(fitter=analysis.fitter, ax=ax, pole=pole, plot_args=dict(c='k', lw=1))\n",
    "    ax.set_title(analysis.path.name)\n",
    "    \n",
    "fig.supylabel(r'$r^2 \\, \\xi(r) \\, {\\rm [(Mpc/h){^2}]}$', x=0.05)\n",
    "fig.supxlabel(r'$r \\, {\\rm [Mpc/h]}$')\n",
    "plt.subplots_adjust(wspace=0.1)"
   ]
  },
  {
   "cell_type": "code",
   "execution_count": null,
   "id": "02ce29f2-41cb-4c85-a407-5a084003bb61",
   "metadata": {},
   "outputs": [],
   "source": []
  }
 ],
 "metadata": {
  "kernelspec": {
   "display_name": "CoLoRe",
   "language": "python",
   "name": "colore"
  },
  "language_info": {
   "codemirror_mode": {
    "name": "ipython",
    "version": 3
   },
   "file_extension": ".py",
   "mimetype": "text/x-python",
   "name": "python",
   "nbconvert_exporter": "python",
   "pygments_lexer": "ipython3",
   "version": "3.9.7"
  }
 },
 "nbformat": 4,
 "nbformat_minor": 5
}
