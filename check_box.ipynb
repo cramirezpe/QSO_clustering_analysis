{
 "cells": [
  {
   "cell_type": "code",
   "execution_count": 10,
   "id": "bf1a70f9-0d91-4660-a881-6c0a990e699f",
   "metadata": {},
   "outputs": [],
   "source": [
    "from pathlib import Path\n",
    "import numpy as np\n",
    "import matplotlib.pyplot as plt\n",
    "from scipy.interpolate import interp1d\n",
    "from scipy.integrate import quad\n",
    "from LyaPlotter.sims import CoLoReSim"
   ]
  },
  {
   "cell_type": "code",
   "execution_count": 7,
   "id": "939d420c-ce3c-416a-bff2-2391c477e271",
   "metadata": {},
   "outputs": [],
   "source": [
    "input_files = Path('/global/project/projectdirs/desi/users/cramirez/QSO_clustering_analysis/input_files')\n",
    "boxes_path = Path('/global/cscratch1/sd/cramirez/QSO_clustering_analysis/CoLoRe_boxes')"
   ]
  },
  {
   "cell_type": "code",
   "execution_count": 6,
   "id": "5f18511a-b1ea-469e-95f9-b99dd775ff3c",
   "metadata": {},
   "outputs": [],
   "source": [
    "nz_file = input_files / 'Nz_qso_130618_2_colore1_hZs.txt'\n",
    "assert nz_file.is_file()"
   ]
  },
  {
   "cell_type": "code",
   "execution_count": 9,
   "id": "0ee23454-69e7-4708-bf44-9235953b753b",
   "metadata": {},
   "outputs": [],
   "source": [
    "box_path = boxes_path / '5x_DESI_box'\n",
    "assert box_path.is_dir()"
   ]
  },
  {
   "cell_type": "code",
   "execution_count": 14,
   "id": "228a8143-9e67-43ec-bfd8-0a13333bebd0",
   "metadata": {},
   "outputs": [],
   "source": [
    "colore_sim = CoLoReSim(0, box_path)\n",
    "data = colore_sim.get_Sources()"
   ]
  },
  {
   "cell_type": "code",
   "execution_count": 15,
   "id": "214e0ed5-5764-4990-90c4-69cc294b57d8",
   "metadata": {},
   "outputs": [
    {
     "data": {
      "text/plain": [
       "array([3.42931  , 3.3439038, 3.7544358, ..., 3.7784293, 3.7967227,\n",
       "       3.782902 ], dtype=float32)"
      ]
     },
     "execution_count": 15,
     "metadata": {},
     "output_type": "execute_result"
    }
   ],
   "source": [
    "data.z"
   ]
  },
  {
   "cell_type": "code",
   "execution_count": 19,
   "id": "b330165e-f437-4ffc-bbfa-804f4e56cbdf",
   "metadata": {},
   "outputs": [
    {
     "data": {
      "image/png": "[encoded data removed]",
      "text/plain": [
       "<Figure size 432x288 with 1 Axes>"
      ]
     },
     "metadata": {
      "needs_background": "light"
     },
     "output_type": "display_data"
    }
   ],
   "source": [
    "fig, ax = plt.subplots()\n",
    "zbins = np.linspace(0.8, 3.6, 100)\n",
    "\n",
    "ax.hist(data.z, bins=zbins);"
   ]
  },
  {
   "cell_type": "code",
   "execution_count": null,
   "id": "3766fb13-b52a-4173-aa8e-1a34b050fc12",
   "metadata": {},
   "outputs": [],
   "source": []
  }
 ],
 "metadata": {
  "kernelspec": {
   "display_name": "CoLoRe",
   "language": "python",
   "name": "colore"
  },
  "language_info": {
   "codemirror_mode": {
    "name": "ipython",
    "version": 3
   },
   "file_extension": ".py",
   "mimetype": "text/x-python",
   "name": "python",
   "nbconvert_exporter": "python",
   "pygments_lexer": "ipython3",
   "version": "3.8.5"
  }
 },
 "nbformat": 4,
 "nbformat_minor": 5
}
