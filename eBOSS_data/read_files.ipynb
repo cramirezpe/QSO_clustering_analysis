{
 "cells": [
  {
   "cell_type": "markdown",
   "id": "54e8f942-d319-4542-a871-c2f2bbf889e6",
   "metadata": {},
   "source": [
    "Read sdss files"
   ]
  },
  {
   "cell_type": "code",
   "execution_count": 2,
   "id": "638cff67-4773-46d6-b432-4e2a57ee21ad",
   "metadata": {},
   "outputs": [],
   "source": [
    "import numpy as np\n",
    "import matplotlib.pyplot as plt"
   ]
  },
  {
   "cell_type": "code",
   "execution_count": 3,
   "id": "1a36d5ed-291f-4301-9558-c2485e816f2f",
   "metadata": {},
   "outputs": [],
   "source": [
    "class eBossModel:\n",
    "    def __init__(self, file):\n",
    "        self.file = file\n",
    "        _s, _xi0, _xi2, _xi4 = np.loadtxt(self.file, unpack=True)\n",
    "        self.r = _s\n",
    "        self.poles = {0: _xi0, 2: _xi2, 4: _xi4}\n",
    "    \n",
    "    def get_npoles(self, pole):\n",
    "        return self.poles[pole]\n",
    "    \n",
    "    def plot(self, pole, ax, plot_args=dict()):\n",
    "        ax.plot(self.r, self.poles[pole]*self.r**2, **plot_args)\n",
    "    \n",
    "class eBossData:\n",
    "    def __init__(self, file):\n",
    "        self.file = file\n",
    "        _s, _xi0, _xi0_err, _xi2, _xi2_err, _xi4, _xi4_err = np.loadtxt(self.file, unpack=True)\n",
    "        self.r = _s\n",
    "        self.poles = {0: _xi0, 2: _xi2, 4:_xi4}\n",
    "        self.poles_err = {0: _xi0_err, 2: _xi2_err, 4:_xi4_err}        \n",
    "\n",
    "    def get_xi(self, pole):\n",
    "        return self.poles[pole], self.poles_err[pole]\n",
    "    \n",
    "    def plot(self, pole, ax, plot_args=dict()):\n",
    "        ax.errorbar(self.r, self.r**2*self.poles[pole], self.r**2*self.poles_err[pole], **plot_args)\n",
    "    \n",
    "model = eBossModel('Model_QSOxi_NGCSGC_0.8z2.2_prerecon.txt')\n",
    "data = eBossData('Data_QSOxi_NGCSGC_0.8z2.2_prerecon.txt')"
   ]
  },
  {
   "cell_type": "code",
   "execution_count": 4,
   "id": "42bd12c1-316d-4a76-b420-4412cfee9dbe",
   "metadata": {},
   "outputs": [
    {
     "data": {
      "image/png": "[encoded data removed]",
      "text/plain": [
       "<Figure size 432x288 with 1 Axes>"
      ]
     },
     "metadata": {
      "needs_background": "light"
     },
     "output_type": "display_data"
    }
   ],
   "source": [
    "fig, ax = plt.subplots()\n",
    "pole=2\n",
    "\n",
    "data.plot(pole, ax, plot_args=dict(fmt='-', marker='o', markersize=2, lw=1))\n",
    "model.plot(pole, ax, plot_args=dict(lw=1, c='k'))"
   ]
  },
  {
   "cell_type": "code",
   "execution_count": null,
   "id": "562bfb38-721d-45c3-9180-599eadbfe803",
   "metadata": {},
   "outputs": [],
   "source": []
  },
  {
   "cell_type": "code",
   "execution_count": null,
   "id": "a6add967-f354-4992-b556-c850b690b565",
   "metadata": {},
   "outputs": [],
   "source": []
  }
 ],
 "metadata": {
  "kernelspec": {
   "display_name": "CoLoRe",
   "language": "python",
   "name": "colore"
  },
  "language_info": {
   "codemirror_mode": {
    "name": "ipython",
    "version": 3
   },
   "file_extension": ".py",
   "mimetype": "text/x-python",
   "name": "python",
   "nbconvert_exporter": "python",
   "pygments_lexer": "ipython3",
   "version": "3.8.5"
  }
 },
 "nbformat": 4,
 "nbformat_minor": 5
}
