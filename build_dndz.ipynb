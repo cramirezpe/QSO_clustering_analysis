{
 "cells": [
  {
   "cell_type": "code",
   "execution_count": 8,
   "id": "2603ffeb-063c-4a9f-ad61-c08b8d323dfb",
   "metadata": {},
   "outputs": [],
   "source": [
    "from pathlib import Path\n",
    "import numpy as np\n",
    "import matplotlib.pyplot as plt\n",
    "from scipy.interpolate import interp1d\n",
    "from scipy.integrate import quad\n",
    "from LyaPlotter.file_types import FilesBase"
   ]
  },
  {
   "cell_type": "code",
   "execution_count": 47,
   "id": "122fc7cf-93da-4f8f-bcf4-97b86ddca03c",
   "metadata": {},
   "outputs": [],
   "source": [
    "import scipy.stats as stats"
   ]
  },
  {
   "cell_type": "code",
   "execution_count": 2,
   "id": "412acce5-67bf-4f3f-87a2-ffe0062a03fc",
   "metadata": {},
   "outputs": [],
   "source": [
    "cats = Path('/global/u2/c/cramirez/Codes/desi_lya_sv/everest_healpix_e2e/catalogues')"
   ]
  },
  {
   "cell_type": "code",
   "execution_count": 5,
   "id": "70a67b05-9d11-45f6-8691-4937531dc196",
   "metadata": {},
   "outputs": [],
   "source": [
    "cat = cats / 'qsocat_main.fits.gz'"
   ]
  },
  {
   "cell_type": "code",
   "execution_count": 53,
   "id": "d59f68a8-e1cf-4389-86e7-892368bfe997",
   "metadata": {},
   "outputs": [],
   "source": [
    "import fitsio"
   ]
  },
  {
   "cell_type": "code",
   "execution_count": 68,
   "id": "1edc2694-1eac-45c2-a407-05cb761e24e1",
   "metadata": {},
   "outputs": [],
   "source": [
    "data =  fitsio.read(cat)['Z']"
   ]
  },
  {
   "cell_type": "code",
   "execution_count": 66,
   "id": "c388a5f5-40f3-4a91-a4bc-c27293c518e7",
   "metadata": {},
   "outputs": [
    {
     "data": {
      "text/plain": [
       "array([2.94615662, 2.11047039, 1.42160506, ..., 0.71853968, 2.7364663 ,\n",
       "       1.09655431])"
      ]
     },
     "execution_count": 66,
     "metadata": {},
     "output_type": "execute_result"
    }
   ],
   "source": [
    "data['Z']"
   ]
  },
  {
   "cell_type": "code",
   "execution_count": 9,
   "id": "f8be7268-6655-4ac6-af98-7ff13f71c062",
   "metadata": {},
   "outputs": [],
   "source": [
    "data = FilesBase(cat)"
   ]
  },
  {
   "cell_type": "code",
   "execution_count": 80,
   "id": "aa2e4376-ddbb-45a3-95f1-158525df2af0",
   "metadata": {},
   "outputs": [
    {
     "data": {
      "text/plain": [
       "[<matplotlib.lines.Line2D at 0x2aaae6c82190>]"
      ]
     },
     "execution_count": 80,
     "metadata": {},
     "output_type": "execute_result"
    },
    {
     "data": {
      "image/png": "[encoded data removed]",
      "text/plain": [
       "<Figure size 432x288 with 1 Axes>"
      ]
     },
     "metadata": {
      "needs_background": "light"
     },
     "output_type": "display_data"
    }
   ],
   "source": [
    "fig, ax = plt.subplots()\n",
    "bins = np.linspace(0, 5, 100)\n",
    "density = stats.gaussian_kde(data,0.15)\n",
    "n, x, _ = ax.hist(data, bins, density=True);\n",
    "ax.plot(x, density(x))"
   ]
  },
  {
   "cell_type": "code",
   "execution_count": 81,
   "id": "3cd52e45-af86-4a63-9322-e299ea40e19d",
   "metadata": {},
   "outputs": [],
   "source": [
    "from scipy.integrate import quad"
   ]
  },
  {
   "cell_type": "code",
   "execution_count": 82,
   "id": "ad447246-0bf8-4292-b755-29ab3c12bebd",
   "metadata": {},
   "outputs": [
    {
     "data": {
      "text/plain": [
       "(0.29795520781799856, 1.0473531481776628e-08)"
      ]
     },
     "execution_count": 82,
     "metadata": {},
     "output_type": "execute_result"
    }
   ],
   "source": [
    "quad(density, 2.1, 3.79)"
   ]
  },
  {
   "cell_type": "code",
   "execution_count": 86,
   "id": "730e2410-341b-4c95-b687-41a5c7ff425a",
   "metadata": {},
   "outputs": [
    {
     "data": {
      "text/plain": [
       "array([0.34226061, 0.53555363])"
      ]
     },
     "execution_count": 86,
     "metadata": {},
     "output_type": "execute_result"
    }
   ],
   "source": [
    "density([1,2])"
   ]
  },
  {
   "cell_type": "code",
   "execution_count": null,
   "id": "09ce186c-417f-4340-8bc7-e14d68d926c0",
   "metadata": {},
   "outputs": [],
   "source": []
  }
 ],
 "metadata": {
  "kernelspec": {
   "display_name": "CoLoRe",
   "language": "python",
   "name": "colore"
  },
  "language_info": {
   "codemirror_mode": {
    "name": "ipython",
    "version": 3
   },
   "file_extension": ".py",
   "mimetype": "text/x-python",
   "name": "python",
   "nbconvert_exporter": "python",
   "pygments_lexer": "ipython3",
   "version": "3.8.5"
  }
 },
 "nbformat": 4,
 "nbformat_minor": 5
}
